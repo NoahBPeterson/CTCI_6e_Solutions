{
 "metadata": {
  "language_info": {
   "codemirror_mode": {
    "name": "ipython",
    "version": 3
   },
   "file_extension": ".py",
   "mimetype": "text/x-python",
   "name": "python",
   "nbconvert_exporter": "python",
   "pygments_lexer": "ipython3",
   "version": "3.9.1-final"
  },
  "orig_nbformat": 2,
  "kernelspec": {
   "name": "python391jvsc74a57bd063fd5069d213b44bf678585dea6b12cceca9941eaf7f819626cde1f2670de90d",
   "display_name": "Python 3.9.1 64-bit"
  },
  "metadata": {
   "interpreter": {
    "hash": "63fd5069d213b44bf678585dea6b12cceca9941eaf7f819626cde1f2670de90d"
   }
  }
 },
 "nbformat": 4,
 "nbformat_minor": 2,
 "cells": [
  {
   "source": [
    "1.2 Check Permutation: Given two strings, write a method to determine if one is a permutation of the other.\n"
   ],
   "cell_type": "markdown",
   "metadata": {}
  },
  {
   "source": [
    "string = \"QuickBrownLazy\"\n",
    "string2 = \"uQickrBwoLnzay\"\n",
    "\n",
    "def checkPermutation(stringArg1, stringArg2):\n",
    "    if isinstance(stringArg1, str):\n",
    "        if isinstance(stringArg2, str):\n",
    "            if len(stringArg1) != len(stringArg2):\n",
    "                return bool(0)\n",
    "            \n",
    "            alphabet = [0 for i in range(26)]\n",
    "            alphabet2 = [0 for i in range(26)]\n",
    "            for x in range(len(stringArg1)):\n",
    "                lowercase1 = stringArg1[x].casefold()\n",
    "                lowercase2 = stringArg2[x].casefold()\n",
    "                alphabet[ord(lowercase1)-97] += 1\n",
    "                alphabet2[ord(lowercase2)-97] += 1\n",
    "            for x in alphabet:\n",
    "                if alphabet[x] != alphabet2[x] :\n",
    "                    return bool(0)\n",
    "            return bool(1)\n",
    "\n",
    "print(str(checkPermutation(string, string2)))\n"
   ],
   "cell_type": "code",
   "metadata": {},
   "execution_count": 6,
   "outputs": [
    {
     "output_type": "stream",
     "name": "stdout",
     "text": [
      "True\n"
     ]
    }
   ]
  },
  {
   "source": [
    "The algorithm is a modified version of the isUnique(str) function. It counts all the times a character occurs in two strings, and compares the two to determine if the same characters occur the same number of times in both strings. Two strings that are permutations of one another will have the same number of every character.\n",
    "\n",
    "1. Check if the function arguments are strings.\n",
    "2. Create two arrays of integers of size 26, for each letter of the alphabet.\n",
    "3. For each character in the strings, increment the corresponding integer element in the array by one. This step counts every letter and keeps track using the alphabet array.\n",
    "4. Check if the two arrays have the same values at the same indices.\n",
    "\n",
    "The algorithm iterates over two arrays of size n and m, and two more arrays, each of size 26. The time complexity is O(2*n + 2*26), which reduces to O(n)."
   ],
   "cell_type": "markdown",
   "metadata": {}
  }
 ]
}