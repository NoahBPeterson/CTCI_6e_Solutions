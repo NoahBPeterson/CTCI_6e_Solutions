{
 "metadata": {
  "language_info": {
   "codemirror_mode": {
    "name": "ipython",
    "version": 3
   },
   "file_extension": ".py",
   "mimetype": "text/x-python",
   "name": "python",
   "nbconvert_exporter": "python",
   "pygments_lexer": "ipython3",
   "version": "3.9.1-final"
  },
  "orig_nbformat": 2,
  "kernelspec": {
   "name": "python391jvsc74a57bd063fd5069d213b44bf678585dea6b12cceca9941eaf7f819626cde1f2670de90d",
   "display_name": "Python 3.9.1 64-bit"
  },
  "metadata": {
   "interpreter": {
    "hash": "63fd5069d213b44bf678585dea6b12cceca9941eaf7f819626cde1f2670de90d"
   }
  }
 },
 "nbformat": 4,
 "nbformat_minor": 2,
 "cells": [
  {
   "source": [
    "1.3 URLify: Write a method to replace all spaces in a string with %20. You may assume that the string has sufficient space at the end to hold the additional characters, and that you are given the \"true\" length of the string. ()\n"
   ],
   "cell_type": "markdown",
   "metadata": {}
  },
  {
   "source": [
    "string = \"Mr John Smith    \"\n",
    "length = 13\n",
    "\n",
    "def URLify(stringArg, intArg):\n",
    "    if isinstance(stringArg, str):\n",
    "        if isinstance(intArg, int):\n",
    "            URLified = \"\"\n",
    "            for x in range(intArg):\n",
    "                if stringArg[x] == ' ':\n",
    "                    URLified += \"%20\"\n",
    "                else:\n",
    "                    URLified += stringArg[x]\n",
    "            return URLified\n",
    "                \n",
    "print(str(URLify(string, length)))\n"
   ],
   "cell_type": "code",
   "metadata": {
    "tags": []
   },
   "execution_count": 1,
   "outputs": [
    {
     "output_type": "stream",
     "name": "stdout",
     "text": [
      "Mr%20John%20Smith\n"
     ]
    }
   ]
  },
  {
   "source": [
    "The algorithm replaces all space characters with \"%20\" for use in URLs.\n",
    "\n",
    "1. Check if the function arguments are string and int respectively.\n",
    "2. Create a new string variable.\n",
    "3. Check each character in the string argument. If it is a space, add \"%20\" to the new string. Otherwise add the character.\n",
    "\n",
    "The runtime performance depends on the performance of the += operator on strings. Given limited testing, it appears to concatenate strings in O(1) time. The algorithm iterates over the entire string once, which gives the time complexity of O(n)."
   ],
   "cell_type": "markdown",
   "metadata": {}
  }
 ]
}