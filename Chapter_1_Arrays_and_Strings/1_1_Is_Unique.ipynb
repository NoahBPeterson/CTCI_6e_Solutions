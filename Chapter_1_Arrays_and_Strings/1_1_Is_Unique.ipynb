{
 "metadata": {
  "language_info": {
   "codemirror_mode": {
    "name": "ipython",
    "version": 3
   },
   "file_extension": ".py",
   "mimetype": "text/x-python",
   "name": "python",
   "nbconvert_exporter": "python",
   "pygments_lexer": "ipython3",
   "version": "3.9.1-final"
  },
  "orig_nbformat": 2,
  "kernelspec": {
   "name": "python391jvsc74a57bd063fd5069d213b44bf678585dea6b12cceca9941eaf7f819626cde1f2670de90d",
   "display_name": "Python 3.9.1 64-bit"
  },
  "metadata": {
   "interpreter": {
    "hash": "63fd5069d213b44bf678585dea6b12cceca9941eaf7f819626cde1f2670de90d"
   }
  }
 },
 "nbformat": 4,
 "nbformat_minor": 2,
 "cells": [
  {
   "source": [
    "1.1 Is Unique: Implement an algorithm to determine if a string has all unique characters. What if you cannot use additional data structures?\n"
   ],
   "cell_type": "markdown",
   "metadata": {}
  },
  {
   "source": [
    "string = \"QuickBrownLazy\"\n",
    "\n",
    "def isUnique(stringArg):\n",
    "    if isinstance(stringArg, str) :\n",
    "        alphabet = [0 for i in range(26)]\n",
    "        for x in stringArg:\n",
    "            lowercase = x.casefold()\n",
    "            alphabet[ord(lowercase)-97] += 1\n",
    "        for x in alphabet:\n",
    "            if alphabet[x] > 1 :\n",
    "                return bool(0)\n",
    "        return bool(1)\n",
    "\n",
    "print(str(isUnique(string)))\n"
   ],
   "cell_type": "code",
   "metadata": {},
   "execution_count": 80,
   "outputs": [
    {
     "output_type": "stream",
     "name": "stdout",
     "text": [
      "True\n"
     ]
    }
   ]
  },
  {
   "source": [
    "The algorithm follows the following steps:\n",
    "\n",
    "1. Check if the function argument is a string.\n",
    "2. Create an array of integers of size 26, for each letter of the alphabet.\n",
    "3. For each character in the string, increment the corresponding integer element in the array by one. This step counts every letter and keeps track using the alphabet array.\n",
    "4. Check if any element in the alphabet array is greater than one.\n",
    "\n",
    "This algorithm iterates once over one array of variable length n, giving a time complexity of O(n)."
   ],
   "cell_type": "markdown",
   "metadata": {}
  }
 ]
}